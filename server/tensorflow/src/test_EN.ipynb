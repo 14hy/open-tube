{
 "cells": [
  {
   "cell_type": "code",
   "execution_count": 1,
   "metadata": {},
   "outputs": [],
   "source": [
    "import tensorflow as tf\n",
    "import numpy as np\n",
    "import sys\n",
    "import os\n",
    "import re\n",
    "from nltk.tokenize import word_tokenize\n",
    "import pandas as pd\n",
    "import pickle\n",
    "import time\n",
    "import pycurl\n",
    "import re\n",
    "from io import BytesIO\n",
    "import json\n",
    "np.random.seed(1)\n",
    "tf.set_random_seed(1)"
   ]
  },
  {
   "cell_type": "code",
   "execution_count": 2,
   "metadata": {},
   "outputs": [],
   "source": [
    "glove_path = \"../model/glove/glove.pickle\""
   ]
  },
  {
   "cell_type": "code",
   "execution_count": 3,
   "metadata": {},
   "outputs": [],
   "source": [
    "with open(glove_path, \"rb\") as f:\n",
    "    glove_dict = pickle.load(f)"
   ]
  },
  {
   "cell_type": "code",
   "execution_count": 4,
   "metadata": {},
   "outputs": [],
   "source": [
    "def embedding(word):\n",
    "    if word in glove_dict.keys():\n",
    "        return glove_dict[word]\n",
    "    else:\n",
    "        return np.random.normal(size=(200))"
   ]
  },
  {
   "cell_type": "code",
   "execution_count": 5,
   "metadata": {},
   "outputs": [],
   "source": [
    "max_length = 250\n",
    "input_size = 200\n",
    "batch_size = 1"
   ]
  },
  {
   "cell_type": "code",
   "execution_count": 7,
   "metadata": {},
   "outputs": [
    {
     "name": "stdout",
     "output_type": "stream",
     "text": [
      "리뷰를 입력하세요.(exit => 종료)hey\n",
      "리뷰 \"hey\" 은 약 84%의 확률로 긍정 리뷰입니다.\n",
      "리뷰를 입력하세요.(exit => 종료)exit\n"
     ]
    }
   ],
   "source": [
    "c = pycurl.Curl()\n",
    "c.setopt(c.URL, \"http://101.101.164.175:8501/v1/models/BiLSTM_EN:predict\")\n",
    "c.setopt(pycurl.HTTPHEADER, ['Accept: application/json'])\n",
    "while True:\n",
    "    X = input(\"리뷰를 입력하세요.(exit => 종료)\")\n",
    "    if X == \"exit\":\n",
    "        break\n",
    "    X = [X]\n",
    "    token_X = [word_tokenize(sentence) for sentence in X]\n",
    "    batch_X = [[embedding(word) for word in sentence] for sentence in token_X]\n",
    "    batch_X_padded = np.zeros(shape=(batch_size, max_length, input_size))\n",
    "    for b in range(batch_size):\n",
    "        batch_X_padded[b, :len(batch_X[b])] = batch_X[b]\n",
    "    seq_len_ = [len(x) for x in X]\n",
    "\n",
    "    data = json.dumps({\n",
    "        \"inputs\": {\n",
    "            \"input_X\": batch_X_padded.tolist(),\n",
    "            \"dropout_keep_prob\": 1.0,\n",
    "            \"seq_len\": seq_len_\n",
    "        }\n",
    "    })\n",
    "\n",
    "#         buffer 초기화가 잘 안됨\n",
    "    buffer = BytesIO()\n",
    "    \n",
    "    c.setopt(c.POST, True)\n",
    "    c.setopt(c.POSTFIELDS, data)\n",
    "    c.setopt(c.WRITEFUNCTION, buffer.write)\n",
    "\n",
    "    c.perform()\n",
    "#         print(c.getinfo(pycurl.RESPONSE_CODE))\n",
    "\n",
    "    body = buffer.getvalue()\n",
    "    pred = json.loads(body.decode('utf8'))[\"outputs\"][0]\n",
    "\n",
    "    print(\"리뷰 \\\"{}\\\" 은 약 {}%의 확률로 긍정 리뷰입니다.\".format(X[0], int(pred[0]*100)))"
   ]
  },
  {
   "cell_type": "code",
   "execution_count": null,
   "metadata": {},
   "outputs": [],
   "source": []
  }
 ],
 "metadata": {
  "kernelspec": {
   "display_name": "Python 3",
   "language": "python",
   "name": "python3"
  },
  "language_info": {
   "codemirror_mode": {
    "name": "ipython",
    "version": 3
   },
   "file_extension": ".py",
   "mimetype": "text/x-python",
   "name": "python",
   "nbconvert_exporter": "python",
   "pygments_lexer": "ipython3",
   "version": "3.6.7"
  }
 },
 "nbformat": 4,
 "nbformat_minor": 2
}
