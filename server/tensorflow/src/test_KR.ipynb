{
 "cells": [
  {
   "cell_type": "code",
   "execution_count": 1,
   "metadata": {},
   "outputs": [],
   "source": [
    "from gensim.models import Word2Vec\n",
    "import tensorflow as tf\n",
    "import numpy as np\n",
    "from konlpy.tag import Okt\n",
    "import sys\n",
    "import os\n",
    "import pycurl\n",
    "import re\n",
    "from io import BytesIO\n",
    "import json\n",
    "np.random.seed(1)\n",
    "tf.set_random_seed(1)"
   ]
  },
  {
   "cell_type": "code",
   "execution_count": 2,
   "metadata": {},
   "outputs": [],
   "source": [
    "okt=Okt()"
   ]
  },
  {
   "cell_type": "code",
   "execution_count": 3,
   "metadata": {},
   "outputs": [
    {
     "name": "stderr",
     "output_type": "stream",
     "text": [
      "C:\\Users\\jeon\\AppData\\Local\\Programs\\Python\\Python36-32\\Lib\\conda\\lib\\site-packages\\smart_open\\smart_open_lib.py:398: UserWarning: This function is deprecated, use smart_open.open instead. See the migration notes for details: https://github.com/RaRe-Technologies/smart_open/blob/master/README.rst#migrating-to-the-new-open-function\n",
      "  'See the migration notes for details: %s' % _MIGRATION_NOTES_URL\n"
     ]
    }
   ],
   "source": [
    "word2vec = Word2Vec.load(\"./../model/word2vec/word2vec.model\")"
   ]
  },
  {
   "cell_type": "code",
   "execution_count": 4,
   "metadata": {},
   "outputs": [],
   "source": [
    "def embedding(word):\n",
    "    if word in word2vec.wv.vocab:\n",
    "        return word2vec.wv[word]\n",
    "    else:\n",
    "        return np.random.normal(size=(300))"
   ]
  },
  {
   "cell_type": "code",
   "execution_count": 5,
   "metadata": {},
   "outputs": [],
   "source": [
    "max_length = 100\n",
    "input_size = 300\n",
    "batch_size = 1"
   ]
  },
  {
   "cell_type": "code",
   "execution_count": 7,
   "metadata": {},
   "outputs": [
    {
     "name": "stdout",
     "output_type": "stream",
     "text": [
      "리뷰를 입력하세요.(exit => 종료)재미없다\n",
      "리뷰 \"재미없다\" 은 약 2%의 확률로 긍정 리뷰입니다.\n",
      "리뷰를 입력하세요.(exit => 종료)와. 진짜 재미있다.\n",
      "리뷰 \"와. 진짜 재미있다.\" 은 약 94%의 확률로 긍정 리뷰입니다.\n",
      "리뷰를 입력하세요.(exit => 종료)너무 재밌어요. 대박이네.\n",
      "리뷰 \"너무 재밌어요. 대박이네.\" 은 약 98%의 확률로 긍정 리뷰입니다.\n",
      "리뷰를 입력하세요.(exit => 종료)exit\n"
     ]
    }
   ],
   "source": [
    "c = pycurl.Curl()\n",
    "c.setopt(c.URL, \"http://101.101.164.175:8501/v1/models/BiLSTM:predict\")\n",
    "c.setopt(pycurl.HTTPHEADER, ['Accept: application/json'])\n",
    "while True:\n",
    "    X = input(\"리뷰를 입력하세요.(exit => 종료)\")\n",
    "    if X == \"exit\":\n",
    "        break\n",
    "    X = [X]\n",
    "    token_X = [[\"/\".join(tag) for tag in okt.pos(sentence, norm=True, stem=True)] for sentence in X]\n",
    "    batch_X = [[embedding(word) for word in sentence] for sentence in token_X]\n",
    "    batch_X_padded = np.zeros(shape=(batch_size, max_length, input_size))\n",
    "    for b in range(batch_size):\n",
    "        batch_X_padded[b, :len(batch_X[b])] = batch_X[b]\n",
    "    seq_len_ = [len(x) for x in X]\n",
    "\n",
    "    data = json.dumps({\n",
    "        \"inputs\": {\n",
    "            \"input_X\": batch_X_padded.tolist(),\n",
    "            \"dropout_keep_prob\": 1.0,\n",
    "            \"seq_len\": seq_len_\n",
    "        }\n",
    "    })\n",
    "\n",
    "#         buffer 초기화가 잘 안됨\n",
    "    buffer = BytesIO()\n",
    "    \n",
    "    c.setopt(c.POST, True)\n",
    "    c.setopt(c.POSTFIELDS, data)\n",
    "    c.setopt(c.WRITEFUNCTION, buffer.write)\n",
    "\n",
    "    c.perform()\n",
    "#         print(c.getinfo(pycurl.RESPONSE_CODE))\n",
    "\n",
    "    body = buffer.getvalue()\n",
    "    pred = json.loads(body.decode('utf8'))[\"outputs\"][0]\n",
    "\n",
    "    print(\"리뷰 \\\"{}\\\" 은 약 {}%의 확률로 긍정 리뷰입니다.\".format(X[0], int(pred[0]*100)))"
   ]
  },
  {
   "cell_type": "code",
   "execution_count": 100,
   "metadata": {},
   "outputs": [
    {
     "name": "stdout",
     "output_type": "stream",
     "text": [
      "200\n",
      "0.478981048\n"
     ]
    },
    {
     "data": {
      "text/plain": [
       "0"
      ]
     },
     "execution_count": 100,
     "metadata": {},
     "output_type": "execute_result"
    }
   ],
   "source": [
    "# 랜덤값 입력 테스트\n",
    "import pycurl\n",
    "import re\n",
    "from io import StringIO\n",
    "from io import BytesIO\n",
    "import json\n",
    "\n",
    "buffer = BytesIO()\n",
    "c = pycurl.Curl()\n",
    "c.setopt(c.URL, \"http://localhost:8501/v1/models/BiLSTM:predict\")\n",
    "c.setopt(pycurl.HTTPHEADER, ['Accept: application/json'])\n",
    "\n",
    "data = json.dumps({\n",
    "    \"inputs\": {\n",
    "        \"input_X\": np.zeros(shape=[1, max_length, input_size]).tolist(),\n",
    "        \"dropout_keep_prob\": 1.0,\n",
    "        \"seq_len\": [1]\n",
    "    }\n",
    "})\n",
    "\n",
    "c.setopt(c.POST, True)\n",
    "c.setopt(c.POSTFIELDS, data)\n",
    "c.setopt(c.WRITEFUNCTION, buffer.write)\n",
    "\n",
    "c.perform()\n",
    "print(c.getinfo(pycurl.RESPONSE_CODE))\n",
    "\n",
    "body = buffer.getvalue()\n",
    "pred = json.loads(body.decode('utf8'))[\"outputs\"][0][0]\n",
    "print(pred)\n",
    "buffer.truncate(0)"
   ]
  },
  {
   "cell_type": "code",
   "execution_count": null,
   "metadata": {},
   "outputs": [],
   "source": []
  }
 ],
 "metadata": {
  "kernelspec": {
   "display_name": "Python 3",
   "language": "python",
   "name": "python3"
  },
  "language_info": {
   "codemirror_mode": {
    "name": "ipython",
    "version": 3
   },
   "file_extension": ".py",
   "mimetype": "text/x-python",
   "name": "python",
   "nbconvert_exporter": "python",
   "pygments_lexer": "ipython3",
   "version": "3.6.7"
  }
 },
 "nbformat": 4,
 "nbformat_minor": 2
}
