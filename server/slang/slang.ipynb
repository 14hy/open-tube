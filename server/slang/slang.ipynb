{
 "cells": [
  {
   "cell_type": "code",
   "execution_count": 26,
   "metadata": {},
   "outputs": [],
   "source": [
    "def slang(X,ban_list=None):\n",
    "    f = open(\"slang_dict.txt\", \"r\", encoding=\"utf-8-sig\")\n",
    "    slang_dict = f.readlines()\n",
    "    slang_dict = [row.replace(\"\\n\", \"\") for row in slang_dict]\n",
    "    if ban_list != None:\n",
    "        ban_dict = slang_dict + ban_list\n",
    "    else:\n",
    "        ban_dict = slang_dict\n",
    "    for idx, row in enumerate(X):\n",
    "        for i in ban_dict:\n",
    "            if i in row:\n",
    "                print(row)\n",
    "                break"
   ]
  },
  {
   "cell_type": "code",
   "execution_count": 27,
   "metadata": {},
   "outputs": [],
   "source": [
    "test = [\n",
    "    \"아 씨발새끼 미쳤나\",\n",
    "    \"미친놈\",\n",
    "    \"지랄ㅋㅋㅋㅋ\",\n",
    "    \"대박\",\n",
    "    \"문재앙이네ㅋㅋㅋ\"\n",
    "]"
   ]
  },
  {
   "cell_type": "code",
   "execution_count": 28,
   "metadata": {},
   "outputs": [
    {
     "name": "stdout",
     "output_type": "stream",
     "text": [
      "아 씨발새끼 미쳤나\n",
      "미친놈\n",
      "지랄ㅋㅋㅋㅋ\n",
      "문재앙이네ㅋㅋㅋ\n"
     ]
    }
   ],
   "source": [
    "slang(test,[\"재앙\"])"
   ]
  },
  {
   "cell_type": "code",
   "execution_count": null,
   "metadata": {},
   "outputs": [],
   "source": []
  }
 ],
 "metadata": {
  "kernelspec": {
   "display_name": "Python 3",
   "language": "python",
   "name": "python3"
  },
  "language_info": {
   "codemirror_mode": {
    "name": "ipython",
    "version": 3
   },
   "file_extension": ".py",
   "mimetype": "text/x-python",
   "name": "python",
   "nbconvert_exporter": "python",
   "pygments_lexer": "ipython3",
   "version": "3.6.7"
  }
 },
 "nbformat": 4,
 "nbformat_minor": 2
}
